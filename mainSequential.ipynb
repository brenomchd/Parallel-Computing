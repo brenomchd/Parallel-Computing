{
 "cells": [
  {
   "cell_type": "code",
   "execution_count": 0,
   "metadata": {
    "application/vnd.databricks.v1+cell": {
     "cellMetadata": {
      "byteLimit": 2048000,
      "rowLimit": 10000
     },
     "inputWidgets": {},
     "nuid": "16d1d64b-562c-47a6-ab29-b70cc4b0a48d",
     "showTitle": false,
     "tableResultSettingsMap": {},
     "title": ""
    }
   },
   "outputs": [
    {
     "output_type": "display_data",
     "data": {
      "application/vnd.databricks.v1+bamboolib_hint": "{\"pd.DataFrames\": [], \"version\": \"0.0.1\"}",
      "text/plain": []
     },
     "metadata": {},
     "output_type": "display_data"
    }
   ],
   "source": [
    "import time\n",
    "import pandas as pd\n",
    "import re\n",
    "from pyspark.sql import SparkSession\n",
    "\n",
    "def extract_accident_type(desc):\n",
    "    \"\"\"Extrai tipo de acidente da descrição via regex.\"\"\"\n",
    "    match = re.search(r\"(colisão|capotamento|atropelamento|batida)\",\n",
    "                      str(desc), re.IGNORECASE)\n",
    "    return match.group(1).lower() if match else \"outros\"\n"
   ]
  },
  {
   "cell_type": "code",
   "execution_count": 0,
   "metadata": {
    "application/vnd.databricks.v1+cell": {
     "cellMetadata": {
      "byteLimit": 2048000,
      "rowLimit": 10000
     },
     "inputWidgets": {},
     "nuid": "33d415c5-ab32-40e6-97bd-ced0d0900709",
     "showTitle": false,
     "tableResultSettingsMap": {},
     "title": ""
    }
   },
   "outputs": [],
   "source": [
    "input_path   = \"/FileStore/tables/US_Accidents_March23_reduzido-2.csv\"\n",
    "fractions    = [0.1, 0.25, 0.5, 0.75, 1.0]\n",
    "threads      = 1\n",
    "output_path  = \"/dbfs/FileStore/tables/metrics_sequencial.csv\""
   ]
  },
  {
   "cell_type": "code",
   "execution_count": 0,
   "metadata": {
    "application/vnd.databricks.v1+cell": {
     "cellMetadata": {
      "byteLimit": 2048000,
      "rowLimit": 10000
     },
     "inputWidgets": {},
     "nuid": "bbdfff4a-01a9-4e26-9873-253dfae782f2",
     "showTitle": false,
     "tableResultSettingsMap": {},
     "title": ""
    }
   },
   "outputs": [],
   "source": [
    "spark = SparkSession.builder.getOrCreate()\n",
    "df_spark = (spark.read\n",
    "                .option(\"header\", \"true\")\n",
    "                .option(\"inferSchema\", \"true\")\n",
    "                .csv(input_path))\n",
    "df = df_spark.toPandas()"
   ]
  },
  {
   "cell_type": "code",
   "execution_count": 0,
   "metadata": {
    "application/vnd.databricks.v1+cell": {
     "cellMetadata": {
      "byteLimit": 2048000,
      "rowLimit": 10000
     },
     "inputWidgets": {},
     "nuid": "9d8d5713-b9d1-4160-a3ee-bf619ab5b2f5",
     "showTitle": false,
     "tableResultSettingsMap": {},
     "title": ""
    }
   },
   "outputs": [],
   "source": [
    "def process_sample(df, fraction, threads):\n",
    "    if fraction < 1.0:\n",
    "        sample_df = df.sample(frac=fraction, random_state=42)\n",
    "    else:\n",
    "        sample_df = df.copy()\n",
    "\n",
    "    metrics = {\n",
    "        \"threads\": threads,\n",
    "        \"fraction\": fraction,\n",
    "        \"n_rows\": len(sample_df),\n",
    "        \"n_cols\": df.shape[1],\n",
    "    }\n",
    "    total_start = time.time()\n",
    "\n",
    "    # 1) Acidentes por estado\n",
    "    t0 = time.time()\n",
    "    _ = (sample_df.groupby(\"State\")[\"ID\"]\n",
    "             .count().reset_index().rename(columns={\"ID\": \"Qtd_Acidentes\"}))\n",
    "    metrics[\"t_acidentes_estado\"] = time.time() - t0\n",
    "\n",
    "    # 2) Clima grave (Severity >= 4)\n",
    "    t0 = time.time()\n",
    "    _ = (sample_df[sample_df[\"Severity\"] >= 4]\n",
    "             .groupby(\"Weather_Condition\")[\"ID\"]\n",
    "             .count().reset_index().rename(columns={\"ID\": \"Qtd_Grave\"}))\n",
    "    metrics[\"t_clima_grave\"] = time.time() - t0\n",
    "\n",
    "    # 3) Severidade média por hora\n",
    "    t0 = time.time()\n",
    "    sample_df[\"hora\"] = pd.to_datetime(sample_df[\"Start_Time\"]).dt.hour\n",
    "    _ = (sample_df.groupby(\"hora\")[\"Severity\"]\n",
    "             .mean().reset_index().rename(columns={\"Severity\": \"Media_Severidade\"}))\n",
    "    metrics[\"t_severidade_hora\"] = time.time() - t0\n",
    "\n",
    "    # 4) Condições da via\n",
    "    t0 = time.time()\n",
    "    qtd_cruz = int(sample_df[\"Crossing\"].sum())\n",
    "    qtd_sinal = int(sample_df[\"Traffic_Signal\"].sum())\n",
    "    _ = pd.DataFrame([{\"Qtd_Cruzamentos\": qtd_cruz, \"Qtd_Sinais\": qtd_sinal}])\n",
    "    metrics[\"t_condicoes_via\"] = time.time() - t0\n",
    "\n",
    "    # 5) Tipo de acidente via regex\n",
    "    t0 = time.time()\n",
    "    sample_df[\"tipo_acidente\"] = sample_df[\"Description\"].apply(extract_accident_type)\n",
    "    _ = (sample_df[\"tipo_acidente\"]\n",
    "             .value_counts().reset_index()\n",
    "             .rename(columns={\"index\": \"Tipo\", \"tipo_acidente\": \"Qtd\"}))\n",
    "    metrics[\"t_tipo_acidente\"] = time.time() - t0\n",
    "\n",
    "    # Tempo total\n",
    "    metrics[\"t_total\"] = time.time() - total_start\n",
    "    return metrics"
   ]
  },
  {
   "cell_type": "code",
   "execution_count": 0,
   "metadata": {
    "application/vnd.databricks.v1+cell": {
     "cellMetadata": {
      "byteLimit": 2048000,
      "rowLimit": 10000
     },
     "inputWidgets": {},
     "nuid": "e30c388e-4973-42d9-ac4d-d00eb518cb6c",
     "showTitle": false,
     "tableResultSettingsMap": {},
     "title": ""
    }
   },
   "outputs": [],
   "source": [
    "all_metrics = []  # inicializa a lista de métricas\n",
    "\n",
    "for frac in fractions:\n",
    "    m = process_sample(df, frac, threads)\n",
    "    all_metrics.append(m)\n",
    "\n",
    "metrics_df = pd.DataFrame(all_metrics)"
   ]
  },
  {
   "cell_type": "code",
   "execution_count": 0,
   "metadata": {
    "application/vnd.databricks.v1+cell": {
     "cellMetadata": {
      "byteLimit": 2048000,
      "rowLimit": 10000
     },
     "inputWidgets": {},
     "nuid": "575eb074-55f9-41b2-970d-5c5b283570da",
     "showTitle": false,
     "tableResultSettingsMap": {},
     "title": ""
    }
   },
   "outputs": [
    {
     "output_type": "display_data",
     "data": {
      "text/html": [
       "<style scoped>\n",
       "  .table-result-container {\n",
       "    max-height: 300px;\n",
       "    overflow: auto;\n",
       "  }\n",
       "  table, th, td {\n",
       "    border: 1px solid black;\n",
       "    border-collapse: collapse;\n",
       "  }\n",
       "  th, td {\n",
       "    padding: 5px;\n",
       "  }\n",
       "  th {\n",
       "    text-align: left;\n",
       "  }\n",
       "</style><div class='table-result-container'><table class='table-result'><thead style='background-color: white'><tr><th>threads</th><th>fraction</th><th>n_rows</th><th>n_cols</th><th>t_acidentes_estado</th><th>t_clima_grave</th><th>t_severidade_hora</th><th>t_condicoes_via</th><th>t_tipo_acidente</th><th>t_total</th></tr></thead><tbody><tr><td>1</td><td>0.1</td><td>472839</td><td>46</td><td>0.19084906578063965</td><td>0.061612844467163086</td><td>0.09094643592834473</td><td>0.0276031494140625</td><td>2.5941083431243896</td><td>2.9651272296905518</td></tr><tr><td>1</td><td>0.25</td><td>1182098</td><td>46</td><td>0.2960846424102783</td><td>0.06292915344238281</td><td>0.14425039291381836</td><td>0.004473209381103516</td><td>6.214601278305054</td><td>6.7223474979400635</td></tr><tr><td>1</td><td>0.5</td><td>2364197</td><td>46</td><td>0.5928852558135986</td><td>0.11873030662536621</td><td>1.6477365493774414</td><td>0.0058743953704833984</td><td>12.732182741165161</td><td>15.097417831420898</td></tr><tr><td>1</td><td>0.75</td><td>3546296</td><td>46</td><td>0.9238123893737793</td><td>0.15933585166931152</td><td>0.28362369537353516</td><td>0.008921623229980469</td><td>19.152840614318848</td><td>20.52854323387146</td></tr><tr><td>1</td><td>1.0</td><td>4728394</td><td>46</td><td>0.8006985187530518</td><td>0.2281477451324463</td><td>0.5265469551086426</td><td>0.017895936965942383</td><td>24.81726622581482</td><td>26.390568017959595</td></tr></tbody></table></div>"
      ]
     },
     "metadata": {
      "application/vnd.databricks.v1+output": {
       "addedWidgets": {},
       "aggData": [],
       "aggError": "",
       "aggOverflow": false,
       "aggSchema": [],
       "aggSeriesLimitReached": false,
       "aggType": "",
       "arguments": {},
       "columnCustomDisplayInfos": {},
       "data": [
        [
         1,
         0.1,
         472839,
         46,
         0.19084906578063965,
         0.061612844467163086,
         0.09094643592834473,
         0.0276031494140625,
         2.5941083431243896,
         2.9651272296905518
        ],
        [
         1,
         0.25,
         1182098,
         46,
         0.2960846424102783,
         0.06292915344238281,
         0.14425039291381836,
         0.004473209381103516,
         6.214601278305054,
         6.7223474979400635
        ],
        [
         1,
         0.5,
         2364197,
         46,
         0.5928852558135986,
         0.11873030662536621,
         1.6477365493774414,
         0.0058743953704833984,
         12.732182741165161,
         15.097417831420898
        ],
        [
         1,
         0.75,
         3546296,
         46,
         0.9238123893737793,
         0.15933585166931152,
         0.28362369537353516,
         0.008921623229980469,
         19.152840614318848,
         20.52854323387146
        ],
        [
         1,
         1.0,
         4728394,
         46,
         0.8006985187530518,
         0.2281477451324463,
         0.5265469551086426,
         0.017895936965942383,
         24.81726622581482,
         26.390568017959595
        ]
       ],
       "datasetInfos": [],
       "dbfsResultPath": null,
       "isJsonSchema": true,
       "metadata": {},
       "overflow": false,
       "plotOptions": {
        "customPlotOptions": {},
        "displayType": "table",
        "pivotAggregation": null,
        "pivotColumns": null,
        "xColumns": null,
        "yColumns": null
       },
       "removedWidgets": [],
       "schema": [
        {
         "metadata": "{}",
         "name": "threads",
         "type": "\"long\""
        },
        {
         "metadata": "{}",
         "name": "fraction",
         "type": "\"double\""
        },
        {
         "metadata": "{}",
         "name": "n_rows",
         "type": "\"long\""
        },
        {
         "metadata": "{}",
         "name": "n_cols",
         "type": "\"long\""
        },
        {
         "metadata": "{}",
         "name": "t_acidentes_estado",
         "type": "\"double\""
        },
        {
         "metadata": "{}",
         "name": "t_clima_grave",
         "type": "\"double\""
        },
        {
         "metadata": "{}",
         "name": "t_severidade_hora",
         "type": "\"double\""
        },
        {
         "metadata": "{}",
         "name": "t_condicoes_via",
         "type": "\"double\""
        },
        {
         "metadata": "{}",
         "name": "t_tipo_acidente",
         "type": "\"double\""
        },
        {
         "metadata": "{}",
         "name": "t_total",
         "type": "\"double\""
        }
       ],
       "type": "table"
      }
     },
     "output_type": "display_data"
    },
    {
     "output_type": "stream",
     "name": "stdout",
     "output_type": "stream",
     "text": [
      "Métricas salvas em: /dbfs/FileStore/tables/metrics_sequencial.csv\n"
     ]
    }
   ],
   "source": [
    "import os\n",
    "\n",
    "# Garante que a pasta exista no driver (fuse mount do DBFS)\n",
    "os.makedirs('/dbfs/FileStore/tables', exist_ok=True)\n",
    "\n",
    "# Agora salva sem erro\n",
    "metrics_df.to_csv(output_path, index=False)\n",
    "\n",
    "# Exibe a tabela no notebook\n",
    "display(metrics_df)  \n",
    "print(f\"Métricas salvas em: {output_path}\")"
   ]
  }
 ],
 "metadata": {
  "application/vnd.databricks.v1+notebook": {
   "computePreferences": null,
   "dashboards": [],
   "environmentMetadata": {
    "base_environment": "",
    "environment_version": "1"
   },
   "inputWidgetPreferences": null,
   "language": "python",
   "notebookMetadata": {
    "pythonIndentUnit": 4
   },
   "notebookName": "Codigo Sequencial",
   "widgets": {}
  }
 },
 "nbformat": 4,
 "nbformat_minor": 0
}